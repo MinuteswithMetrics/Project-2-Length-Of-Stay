{
 "cells": [
  {
   "cell_type": "markdown",
   "metadata": {},
   "source": [
    "<h1><center>Project 2 LOS Pre-Processing</h1>\n",
    "<h4>TCSS 555<br>\n",
    "Spring 2018<br>\n",
    "Thuan Lam, Tood Robbins, Inno Estrera</h4></center>\n"
   ]
  },
  {
   "cell_type": "markdown",
   "metadata": {},
   "source": [
    "<h2>Libraries</h2>"
   ]
  },
  {
   "cell_type": "code",
   "execution_count": 6,
   "metadata": {},
   "outputs": [],
   "source": [
    "# Load libraries\n",
    "\n",
    "import numpy as np\n",
    "import pandas as pd\n",
    "import matplotlib.pyplot as plt\n",
    "\n",
    "from sklearn.utils import shuffle\n",
    "from dateutil.parser import parse\n",
    "from datetime import datetime\n",
    "\n",
    "from sklearn import model_selection\n",
    "from sklearn.linear_model import LogisticRegression\n",
    "from sklearn.tree import DecisionTreeClassifier\n",
    "from sklearn.neighbors import KNeighborsClassifier\n",
    "from sklearn.discriminant_analysis import LinearDiscriminantAnalysis\n",
    "from sklearn.naive_bayes import GaussianNB\n",
    "from sklearn.svm import SVC\n",
    "\n",
    "from sklearn.metrics import accuracy_score\n",
    "from sklearn.metrics import confusion_matrix\n",
    "from sklearn.metrics import classification_report"
   ]
  },
  {
   "cell_type": "markdown",
   "metadata": {},
   "source": [
    "## Load Data"
   ]
  },
  {
   "cell_type": "code",
   "execution_count": 7,
   "metadata": {},
   "outputs": [
    {
     "name": "stdout",
     "output_type": "stream",
     "text": [
      "Current folder is C:\\Users\\toddr\\OneDrive\\Desktop\\Project-2-Length-Of-Stay\\phase 1\n"
     ]
    }
   ],
   "source": [
    "import os \n",
    "cwd = os.getcwd()\n",
    "print('Current folder is {}'.format(cwd))"
   ]
  },
  {
   "cell_type": "code",
   "execution_count": 8,
   "metadata": {},
   "outputs": [
    {
     "name": "stdout",
     "output_type": "stream",
     "text": [
      "Dataset: 58976 rows and 19 columns\n"
     ]
    }
   ],
   "source": [
    "# Load dataset\n",
    "data = pd.read_csv(\"Data\\ADMISSIONS.csv\")\n",
    "# data = pd.read_csv(\"Data\\ICUSTAYS.csv\")\n",
    "# data = pd.read_csv(\"Data\\PATIENTS.csv\")\n",
    "data = shuffle(data)\n",
    "# data = data[:7000]  #get first x number of rows, going to most likely be needed for this project\n",
    "\n",
    "# Lower case all column header\n",
    "data.columns = [x.lower() for x in data.columns]\n",
    "\n",
    "# Dimensions of dataset\n",
    "print('Dataset: {} rows and {} columns'.format(data.shape[0], data.shape[1]))"
   ]
  },
  {
   "cell_type": "markdown",
   "metadata": {},
   "source": [
    "## Preprocess Data\n",
    "* <h3>histogram each column Columns"
   ]
  },
  {
   "cell_type": "code",
   "execution_count": 11,
   "metadata": {},
   "outputs": [
    {
     "name": "stdout",
     "output_type": "stream",
     "text": [
      "Datasets shape: (58976, 19)\n"
     ]
    }
   ],
   "source": [
    "# shape\n",
    "print('Dataset''s shape: {}'.format(data.shape))\n",
    "\n",
    "# add compare all columns and plot the results\n",
    "\n",
    "# head\n",
    "# print(data.head(2))\n",
    "\n",
    "# descriptions\n",
    "# print(data.describe())"
   ]
  },
  {
   "cell_type": "code",
   "execution_count": 12,
   "metadata": {},
   "outputs": [
    {
     "name": "stdout",
     "output_type": "stream",
     "text": [
      "       row_id  subject_id  hadm_id            admittime            dischtime  \\\n",
      "26447   29516       24160   160237  2144-11-13 17:39:00  2144-11-16 13:20:00   \n",
      "1603     1762        1441   169282  2158-11-14 10:30:00  2158-11-21 11:59:00   \n",
      "\n",
      "      deathtime admission_type         admission_location discharge_location  \\\n",
      "26447       NaN      EMERGENCY  CLINIC REFERRAL/PREMATURE               HOME   \n",
      "1603        NaN       ELECTIVE  PHYS REFERRAL/NORMAL DELI   HOME HEALTH CARE   \n",
      "\n",
      "      insurance language           religion marital_status ethnicity  \\\n",
      "26447  Medicaid     ENGL  PROTESTANT QUAKER         SINGLE     WHITE   \n",
      "1603    Private      NaN              OTHER        MARRIED     WHITE   \n",
      "\n",
      "      edregtime edouttime             diagnosis  hospital_expire_flag  \\\n",
      "26447       NaN       NaN  FAILED BACK SYNDROME                     0   \n",
      "1603        NaN       NaN    ISCHEMIC ULCER/SDA                     0   \n",
      "\n",
      "       has_chartevents_data  \n",
      "26447                     1  \n",
      "1603                      0  \n"
     ]
    }
   ],
   "source": [
    "print(data.head(2))"
   ]
  },
  {
   "cell_type": "code",
   "execution_count": 13,
   "metadata": {},
   "outputs": [
    {
     "name": "stdout",
     "output_type": "stream",
     "text": [
      "       row_id  subject_id  hadm_id            admittime            dischtime  \\\n",
      "26447   29516       24160   160237  2144-11-13 17:39:00  2144-11-16 13:20:00   \n",
      "1603     1762        1441   169282  2158-11-14 10:30:00  2158-11-21 11:59:00   \n",
      "\n",
      "      deathtime admission_type         admission_location discharge_location  \\\n",
      "26447       NaN      EMERGENCY  CLINIC REFERRAL/PREMATURE               HOME   \n",
      "1603        NaN       ELECTIVE  PHYS REFERRAL/NORMAL DELI   HOME HEALTH CARE   \n",
      "\n",
      "      insurance language           religion marital_status ethnicity  \\\n",
      "26447  Medicaid     ENGL  PROTESTANT QUAKER         SINGLE     WHITE   \n",
      "1603    Private      NaN              OTHER        MARRIED     WHITE   \n",
      "\n",
      "      edregtime edouttime             diagnosis  hospital_expire_flag  \\\n",
      "26447       NaN       NaN  FAILED BACK SYNDROME                     0   \n",
      "1603        NaN       NaN    ISCHEMIC ULCER/SDA                     0   \n",
      "\n",
      "       has_chartevents_data  \n",
      "26447                     1  \n",
      "1603                      0  \n",
      "n = 58976 and p = 19\n"
     ]
    }
   ],
   "source": [
    "# checking\n",
    "print(data.head(2))\n",
    "print('n = {} and p = {}'.format(data.shape[0], data.shape[1]))"
   ]
  },
  {
   "cell_type": "markdown",
   "metadata": {},
   "source": [
    "## Conclusion\n",
    "#### From the the following tables (ADMISSIONS, ICUSTAYS, PATIENTS) this data concludes that the following columns are the most useful in determining the length of stay of the patient. "
   ]
  }
 ],
 "metadata": {
  "kernelspec": {
   "display_name": "Python 3",
   "language": "python",
   "name": "python3"
  },
  "language_info": {
   "codemirror_mode": {
    "name": "ipython",
    "version": 3
   },
   "file_extension": ".py",
   "mimetype": "text/x-python",
   "name": "python",
   "nbconvert_exporter": "python",
   "pygments_lexer": "ipython3",
   "version": "3.6.4"
  }
 },
 "nbformat": 4,
 "nbformat_minor": 2
}
