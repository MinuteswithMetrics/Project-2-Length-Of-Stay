{
 "cells": [
  {
   "cell_type": "markdown",
   "metadata": {},
   "source": [
    "<h1><center>Project 2 LOS Pre-Processing</h1>\n",
    "<h4>TCSS 555<br>\n",
    "Spring 2018<br>\n",
    "Thuan Lam, Tood Robbins, Inno Estrera</h4></center>\n"
   ]
  },
  {
   "cell_type": "markdown",
   "metadata": {},
   "source": [
    "<h2>Libraries</h2>"
   ]
  },
  {
   "cell_type": "code",
   "execution_count": 21,
   "metadata": {},
   "outputs": [],
   "source": [
    "# Load libraries\n",
    "\n",
    "import numpy as np\n",
    "import pandas as pd\n",
    "import matplotlib.pyplot as plt\n",
    "\n",
    "from sklearn.utils import shuffle\n",
    "from dateutil.parser import parse\n",
    "from datetime import datetime\n",
    "\n",
    "from sklearn import model_selection\n",
    "from sklearn.linear_model import LogisticRegression\n",
    "from sklearn.tree import DecisionTreeClassifier\n",
    "from sklearn.neighbors import KNeighborsClassifier\n",
    "from sklearn.discriminant_analysis import LinearDiscriminantAnalysis\n",
    "from sklearn.naive_bayes import GaussianNB\n",
    "from sklearn.svm import SVC\n",
    "from sklearn.naive_bayes import BernoulliNB\n",
    "from sklearn.naive_bayes import GaussianNB\n",
    "from sklearn.naive_bayes import MultinomialNB\n",
    "\n",
    "from sklearn.metrics import accuracy_score\n",
    "from sklearn.metrics import confusion_matrix\n",
    "from sklearn.metrics import classification_report"
   ]
  },
  {
   "cell_type": "markdown",
   "metadata": {},
   "source": [
    "## Load Data"
   ]
  },
  {
   "cell_type": "code",
   "execution_count": 7,
   "metadata": {},
   "outputs": [
    {
     "name": "stdout",
     "output_type": "stream",
     "text": [
      "Current folder is C:\\Users\\toddr\\OneDrive\\Desktop\\Project-2-Length-Of-Stay\\phase 1\n"
     ]
    }
   ],
   "source": [
    "import os \n",
    "cwd = os.getcwd()\n",
    "print('Current folder is {}'.format(cwd))"
   ]
  },
  {
   "cell_type": "code",
   "execution_count": 14,
   "metadata": {},
   "outputs": [
    {
     "name": "stdout",
     "output_type": "stream",
     "text": [
      "LOS Dataset: 61532 rows and 12 columns\n",
      "Admissions Dataset: 58976 rows and 19 columns\n",
      "Patient Dataset: 46520 rows and 8 columns\n"
     ]
    }
   ],
   "source": [
    "#load data set that has los data we are trying to predict \n",
    "dataLos = pd.read_csv(\"Data\\ICUSTAYS.csv\")\n",
    "dataLos = shuffle(dataLos)\n",
    "# Lower case all column header\n",
    "dataLos.columns = [x.lower() for x in dataLos.columns]\n",
    "\n",
    "# Dimensions of dataset\n",
    "print('LOS Dataset: {} rows and {} columns'.format(dataLos.shape[0], dataLos.shape[1]))\n",
    "\n",
    "# Load dataset admissions\n",
    "dataAdm = pd.read_csv(\"Data\\ADMISSIONS.csv\")\n",
    "dataAdm = shuffle(dataAdm)\n",
    "# Lower case all column header\n",
    "dataAdm.columns = [x.lower() for x in dataAdm.columns]\n",
    "\n",
    "# Dimensions of dataset\n",
    "print('Admissions Dataset: {} rows and {} columns'.format(dataAdm.shape[0], dataAdm.shape[1]))\n",
    "\n",
    "# load dataset patients\n",
    "dataPat = pd.read_csv(\"Data\\PATIENTS.csv\")\n",
    "dataPat = shuffle(dataPat)\n",
    "# Lower case all column header\n",
    "dataAdm.columns = [x.lower() for x in dataAdm.columns]\n",
    "\n",
    "# Dimensions of dataset\n",
    "print('Patient Dataset: {} rows and {} columns'.format(dataPat.shape[0], dataPat.shape[1]))"
   ]
  },
  {
   "cell_type": "markdown",
   "metadata": {},
   "source": [
    "## Examine dataset"
   ]
  },
  {
   "cell_type": "code",
   "execution_count": 20,
   "metadata": {},
   "outputs": [
    {
     "name": "stdout",
     "output_type": "stream",
     "text": [
      "       row_id  subject_id  hadm_id  icustay_id dbsource first_careunit  \\\n",
      "6971     7269        5721   150594      242710  carevue           CSRU   \n",
      "36026   32659       25750   137482      292013  carevue           MICU   \n",
      "\n",
      "      last_careunit  first_wardid  last_wardid               intime  \\\n",
      "6971           CSRU            12           12  2160-12-29 09:49:56   \n",
      "36026          MICU            52           52  2131-03-23 13:03:49   \n",
      "\n",
      "                   outtime      los  \n",
      "6971   2160-12-30 10:53:52   1.0444  \n",
      "36026  2131-04-12 15:45:34  20.1123  \n",
      "-----------------------------new table--------------------------\n",
      "       row_id  subject_id  hadm_id            admittime            dischtime  \\\n",
      "18894   20358       16670   175857  2196-01-04 19:02:00  2196-01-10 13:28:00   \n",
      "25830   27968       22930   134510  2191-05-11 20:36:00  2191-05-25 12:50:00   \n",
      "\n",
      "      deathtime admission_type    admission_location  \\\n",
      "18894       NaN      EMERGENCY  EMERGENCY ROOM ADMIT   \n",
      "25830       NaN      EMERGENCY  EMERGENCY ROOM ADMIT   \n",
      "\n",
      "              discharge_location insurance language  religion marital_status  \\\n",
      "18894        SHORT TERM HOSPITAL  Medicaid      NaN  CATHOLIC         SINGLE   \n",
      "25830  LEFT AGAINST MEDICAL ADVI   Private     ENGL     OTHER         SINGLE   \n",
      "\n",
      "      ethnicity            edregtime            edouttime       diagnosis  \\\n",
      "18894     WHITE  2196-01-04 15:23:00  2196-01-04 16:44:00          TRAUMA   \n",
      "25830     WHITE  2191-05-11 16:17:00  2191-05-11 22:22:00  UPPER GI BLEED   \n",
      "\n",
      "       hospital_expire_flag  has_chartevents_data  \n",
      "18894                     0                     1  \n",
      "25830                     0                     1  \n",
      "-----------------------------new table--------------------------\n",
      "       ROW_ID  SUBJECT_ID GENDER                  DOB                  DOD  \\\n",
      "28988   27366       29054      F  2097-08-23 00:00:00  2148-01-15 00:00:00   \n",
      "22394   23836       25254      M  2163-03-05 00:00:00                  NaN   \n",
      "\n",
      "                  DOD_HOSP              DOD_SSN  EXPIRE_FLAG  \n",
      "28988  2148-01-15 00:00:00  2148-01-14 00:00:00            1  \n",
      "22394                  NaN                  NaN            0  \n"
     ]
    }
   ],
   "source": [
    "print(dataLos.head(2))\n",
    "print('-----------------------------new table--------------------------')\n",
    "print(dataAdm.head(2))\n",
    "print('-----------------------------new table--------------------------')\n",
    "print(dataPat.head(2))"
   ]
  },
  {
   "cell_type": "markdown",
   "metadata": {},
   "source": [
    "## Test and Training sets"
   ]
  },
  {
   "cell_type": "markdown",
   "metadata": {},
   "source": [
    "## Conclusion\n",
    "#### From the the following tables (ADMISSIONS, ICUSTAYS, PATIENTS) this data concludes that the following columns are the most useful in determining the length of stay of the patient. "
   ]
  }
 ],
 "metadata": {
  "kernelspec": {
   "display_name": "Python 3",
   "language": "python",
   "name": "python3"
  },
  "language_info": {
   "codemirror_mode": {
    "name": "ipython",
    "version": 3
   },
   "file_extension": ".py",
   "mimetype": "text/x-python",
   "name": "python",
   "nbconvert_exporter": "python",
   "pygments_lexer": "ipython3",
   "version": "3.6.4"
  }
 },
 "nbformat": 4,
 "nbformat_minor": 2
}
