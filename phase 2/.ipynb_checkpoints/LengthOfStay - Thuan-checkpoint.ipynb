{
 "cells": [
  {
   "cell_type": "markdown",
   "metadata": {},
   "source": [
    "<h1><center>Length of Stay Project 24h</h1>\n",
    "<h4>TCSS 555<br>\n",
    "Spring 2018<br>\n",
    "Thuan Lam, Tood Robbins, Inno Irving Estrera</h4></center>\n"
   ]
  },
  {
   "cell_type": "markdown",
   "metadata": {},
   "source": [
    "<h2>Libraries</h2>"
   ]
  },
  {
   "cell_type": "code",
   "execution_count": 128,
   "metadata": {},
   "outputs": [],
   "source": [
    "import numpy as np\n",
    "import pandas as pd\n",
    "import matplotlib.pyplot as plt\n",
    "\n",
    "from sklearn.utils import shuffle\n",
    "from dateutil.parser import parse\n",
    "from datetime import datetime\n",
    "\n",
    "from sklearn import model_selection\n",
    "from sklearn.linear_model import LogisticRegression\n",
    "from sklearn.tree import DecisionTreeClassifier\n",
    "from sklearn.neighbors import KNeighborsClassifier\n",
    "from sklearn.discriminant_analysis import LinearDiscriminantAnalysis\n",
    "from sklearn.naive_bayes import GaussianNB\n",
    "from sklearn.svm import SVC\n",
    "from sklearn.ensemble import RandomForestClassifier\n",
    "\n",
    "from sklearn.metrics import accuracy_score\n",
    "from sklearn.metrics import confusion_matrix\n",
    "from sklearn.metrics import classification_report"
   ]
  },
  {
   "cell_type": "markdown",
   "metadata": {},
   "source": [
    "## Global Setup"
   ]
  },
  {
   "cell_type": "code",
   "execution_count": 129,
   "metadata": {},
   "outputs": [],
   "source": [
    "hoursCheckedIn = 9000              # run pridiction after the patient checkek in <runAt> hours\n",
    "hoursGranularity = 5    # see the granularity section\n",
    "numberOfStayRow = -1  # get 5000 rows in the ICU STAYS only. Set numberOfStayRow = -1 if you want to get all rows"
   ]
  },
  {
   "cell_type": "markdown",
   "metadata": {},
   "source": [
    "## User Defined Functions and Variables"
   ]
  },
  {
   "cell_type": "code",
   "execution_count": 130,
   "metadata": {},
   "outputs": [],
   "source": [
    "DatetimeFormat = '%Y-%m-%d %H:%M:%S'\n",
    "\n",
    "def event_time_filter(row):\n",
    "    proceduretime = datetime.strptime(row.EVENTTIME, DatetimeFormat)\n",
    "    intime = datetime.strptime(row.INTIME, DatetimeFormat)\n",
    "    hours = (proceduretime - intime).total_seconds() / 3600.0\n",
    "    row.hours = hours\n",
    "    return row\n",
    "\n",
    "def createEventsTable(dataframe, name, timeColumn):\n",
    "    print('{} loaded. Shape: {}'.format(dataframe.shape, name))\n",
    "    dataframe.rename(columns={timeColumn: 'EVENTTIME'}, inplace=True)\n",
    "    dataframe = pd.merge(dataframe, stays, on='ICUSTAY_ID', how='inner').drop(['LOS','GENDER','AGE'], axis=1)\n",
    "    dataframe.insert(0,'hours', 0) \n",
    "    dataframe = dataframe.apply(lambda row: event_time_filter(row), axis=1)\n",
    "\n",
    "    # delete hours > hoursCheckedIn\n",
    "    dataframe = dataframe.loc[dataframe['hours'] <= hoursCheckedIn]\n",
    "\n",
    "    dataframe.drop(['hours', 'EVENTTIME', 'INTIME'], axis=1, inplace=True)\n",
    "    print('{} filtered. Shape: {}'.format(name, dataframe.shape))\n",
    "    return dataframe"
   ]
  },
  {
   "cell_type": "markdown",
   "metadata": {},
   "source": [
    "## Data"
   ]
  },
  {
   "cell_type": "code",
   "execution_count": 131,
   "metadata": {},
   "outputs": [
    {
     "name": "stdout",
     "output_type": "stream",
     "text": [
      "Current folder is /Users/innoestrera/repositories/Project-2-Length-Of-Stay/phase 2\n"
     ]
    }
   ],
   "source": [
    "import os \n",
    "cwd = os.getcwd()\n",
    "print('Current folder is {}'.format(cwd))\n",
    "\n",
    "if os.name == \"posix\":\n",
    "    unreadable = set([\n",
    "        \"LABEVENTS.csv\",\n",
    "        \"INPUTEVENTS_CV.csv\",\n",
    "        \"DATETIMEEVENTS.csv\",\n",
    "        \"PRESCRIPTIONS.csv\",\n",
    "        \"NOTEEVENTS.csv\",\n",
    "        \"OUTPUTEVENTS.csv\",\n",
    "        \"CHARTEVENTS.csv\",\n",
    "        \"D_LABITEMS.csv\",\n",
    "        \"CPTEVENTS.csv\"\n",
    "    ])\n",
    "    USER_DIR = '/Users/innoestrera/Desktop/mimic3/';\n",
    "else:\n",
    "    USER_DIR = 'Data\\\\';"
   ]
  },
  {
   "cell_type": "code",
   "execution_count": 132,
   "metadata": {},
   "outputs": [
    {
     "name": "stdout",
     "output_type": "stream",
     "text": [
      "ICUStays loaded. Shape: (61522, 4)\n",
      "['ICUSTAY_ID' 'SUBJECT_ID' 'INTIME' 'LOS']\n"
     ]
    }
   ],
   "source": [
    "# Load datasets\n",
    "stays = pd.read_csv(\"{}ICUSTAYS.csv\".format(USER_DIR))[['ICUSTAY_ID','SUBJECT_ID','INTIME','LOS']]\n",
    "stays = shuffle(stays)\n",
    "\n",
    "# delete LOS = null or LOS = 0\n",
    "stays = stays.fillna(0)\n",
    "stays = stays.loc[stays['LOS'] > 0]\n",
    "\n",
    "if numberOfStayRow > 0:\n",
    "    stays = stays[:numberOfStayRow]\n",
    "\n",
    "print('ICUStays loaded. Shape: {}'.format(stays.shape))\n",
    "print(stays.columns.values)\n",
    "# stays"
   ]
  },
  {
   "cell_type": "markdown",
   "metadata": {},
   "source": [
    "## Hours Granularity"
   ]
  },
  {
   "cell_type": "code",
   "execution_count": 133,
   "metadata": {},
   "outputs": [],
   "source": [
    "if hoursGranularity == 1: \n",
    "    # Option 1: Accuracy +/- 0.1 days = 2 hours and 24 minutes\n",
    "    # For accuracy, we multiply that by 10. So, LOS=36 means 3.6 days. LOS=113 means 11.3 days\n",
    "    stays['LOS'] = stays['LOS'].apply(lambda x: int(x * 10))\n",
    "elif hoursGranularity == 2:\n",
    "    # Option 2: Accuracy +/- 0.5 days = 12 hours\n",
    "    # For accuracy, we multiply that by 10, and round up for half-day (0, 5, 10, 15, 20, 25...)\n",
    "    # For example, LOS=35 means 3.5 days. LOS=110 means 11 days\n",
    "    stays['LOS'] = stays['LOS'].apply(lambda x: int(round(x * 2, 0) * 5))\n",
    "elif hoursGranularity == 3:\n",
    "    # Option 3: Accuracy +/- 1 day = 24 hours\n",
    "    stays['LOS'] = stays['LOS'].apply(lambda x: int(round(x,0)))\n",
    "elif hoursGranularity == 4:\n",
    "    # Option 4: Accuracy +/- 2 day = 48 hours\n",
    "    # For example, 0 means 0-1 day, 2 means 2-3 days, 4 means 4-5 days, 6 means 6-7 days, ...\n",
    "    stays['LOS'] = stays['LOS'].apply(lambda x: round(x,0)//2*2)    \n",
    "elif hoursGranularity == 5:\n",
    "    # Option 5: Accuracy is a binary choice: Less than 5 days or not\n",
    "    stays['LOS'] = stays['LOS'].apply(lambda x: 1 if x >= 5 else 0)\n",
    "# stays"
   ]
  },
  {
   "cell_type": "markdown",
   "metadata": {},
   "source": [
    "## Patients"
   ]
  },
  {
   "cell_type": "code",
   "execution_count": 134,
   "metadata": {},
   "outputs": [
    {
     "name": "stdout",
     "output_type": "stream",
     "text": [
      "Patients loaded. Shape: (46520, 3)\n",
      "ICUStays joined with Patients. Shape: (61522, 5)\n",
      "['GENDER' 'AGE' 'ICUSTAY_ID' 'INTIME' 'LOS']\n"
     ]
    }
   ],
   "source": [
    "patients = pd.read_csv('{}PATIENTS.csv'.format(USER_DIR), encoding='latin1' )[['SUBJECT_ID', 'GENDER', 'DOB']]\n",
    "print('Patients loaded. Shape: {}'.format(patients.shape))\n",
    "stays = pd.merge(patients, stays, on='SUBJECT_ID', how='inner').drop(['SUBJECT_ID'], axis=1)\n",
    "\n",
    "stays.rename(columns={'DOB': 'AGE'}, inplace=True)\n",
    "\n",
    "# converting gender to a binary 1 or 0\n",
    "stays['GENDER'] = stays['GENDER'].apply(lambda x: 0 if x == 'F' else 1)\n",
    "\n",
    "# converting age \n",
    "stays['AGE']    = stays['AGE'].apply(lambda x: abs(int(x[:4]) - datetime.now().year)//10 if x.find('-') > 0 else 0)\n",
    "print('ICUStays joined with Patients. Shape: {}'.format(stays.shape))\n",
    "print(stays.columns.values)"
   ]
  },
  {
   "cell_type": "markdown",
   "metadata": {},
   "source": [
    "* <h3>Input_Events_CV"
   ]
  },
  {
   "cell_type": "code",
   "execution_count": 135,
   "metadata": {
    "scrolled": true
   },
   "outputs": [
    {
     "name": "stderr",
     "output_type": "stream",
     "text": [
      "/anaconda3/lib/python3.6/site-packages/IPython/core/interactiveshell.py:2728: DtypeWarning: Columns (7,9,17,20,21) have mixed types. Specify dtype option on import or set low_memory=False.\n",
      "  interactivity=interactivity, compiler=compiler, result=result)\n"
     ]
    },
    {
     "name": "stdout",
     "output_type": "stream",
     "text": [
      "(17527935, 3) loaded. Shape: INPUTEVENTS_CV\n"
     ]
    },
    {
     "ename": "KeyboardInterrupt",
     "evalue": "",
     "output_type": "error",
     "traceback": [
      "\u001b[0;31m---------------------------------------------------------------------------\u001b[0m",
      "\u001b[0;31mAttributeError\u001b[0m                            Traceback (most recent call last)",
      "\u001b[0;32m/anaconda3/lib/python3.6/site-packages/pandas/core/generic.py\u001b[0m in \u001b[0;36m__setattr__\u001b[0;34m(self, name, value)\u001b[0m\n\u001b[1;32m   3625\u001b[0m         \u001b[0;32mtry\u001b[0m\u001b[0;34m:\u001b[0m\u001b[0;34m\u001b[0m\u001b[0m\n\u001b[0;32m-> 3626\u001b[0;31m             \u001b[0mobject\u001b[0m\u001b[0;34m.\u001b[0m\u001b[0m__getattribute__\u001b[0m\u001b[0;34m(\u001b[0m\u001b[0mself\u001b[0m\u001b[0;34m,\u001b[0m \u001b[0mname\u001b[0m\u001b[0;34m)\u001b[0m\u001b[0;34m\u001b[0m\u001b[0m\n\u001b[0m\u001b[1;32m   3627\u001b[0m             \u001b[0;32mreturn\u001b[0m \u001b[0mobject\u001b[0m\u001b[0;34m.\u001b[0m\u001b[0m__setattr__\u001b[0m\u001b[0;34m(\u001b[0m\u001b[0mself\u001b[0m\u001b[0;34m,\u001b[0m \u001b[0mname\u001b[0m\u001b[0;34m,\u001b[0m \u001b[0mvalue\u001b[0m\u001b[0;34m)\u001b[0m\u001b[0;34m\u001b[0m\u001b[0m\n",
      "\u001b[0;32m/anaconda3/lib/python3.6/site-packages/pandas/core/series.py\u001b[0m in \u001b[0;36mname\u001b[0;34m(self)\u001b[0m\n\u001b[1;32m    337\u001b[0m     \u001b[0;32mdef\u001b[0m \u001b[0mname\u001b[0m\u001b[0;34m(\u001b[0m\u001b[0mself\u001b[0m\u001b[0;34m)\u001b[0m\u001b[0;34m:\u001b[0m\u001b[0;34m\u001b[0m\u001b[0m\n\u001b[0;32m--> 338\u001b[0;31m         \u001b[0;32mreturn\u001b[0m \u001b[0mself\u001b[0m\u001b[0;34m.\u001b[0m\u001b[0m_name\u001b[0m\u001b[0;34m\u001b[0m\u001b[0m\n\u001b[0m\u001b[1;32m    339\u001b[0m \u001b[0;34m\u001b[0m\u001b[0m\n",
      "\u001b[0;32m/anaconda3/lib/python3.6/site-packages/pandas/core/generic.py\u001b[0m in \u001b[0;36m__getattr__\u001b[0;34m(self, name)\u001b[0m\n\u001b[1;32m   3609\u001b[0m                 name in self._accessors):\n\u001b[0;32m-> 3610\u001b[0;31m             \u001b[0;32mreturn\u001b[0m \u001b[0mobject\u001b[0m\u001b[0;34m.\u001b[0m\u001b[0m__getattribute__\u001b[0m\u001b[0;34m(\u001b[0m\u001b[0mself\u001b[0m\u001b[0;34m,\u001b[0m \u001b[0mname\u001b[0m\u001b[0;34m)\u001b[0m\u001b[0;34m\u001b[0m\u001b[0m\n\u001b[0m\u001b[1;32m   3611\u001b[0m         \u001b[0;32melse\u001b[0m\u001b[0;34m:\u001b[0m\u001b[0;34m\u001b[0m\u001b[0m\n",
      "\u001b[0;31mAttributeError\u001b[0m: 'Series' object has no attribute '_name'",
      "\nDuring handling of the above exception, another exception occurred:\n",
      "\u001b[0;31mKeyboardInterrupt\u001b[0m                         Traceback (most recent call last)",
      "\u001b[0;32m<ipython-input-135-40b7825310d5>\u001b[0m in \u001b[0;36m<module>\u001b[0;34m()\u001b[0m\n\u001b[1;32m      1\u001b[0m \u001b[0minputeventscv\u001b[0m \u001b[0;34m=\u001b[0m \u001b[0mpd\u001b[0m\u001b[0;34m.\u001b[0m\u001b[0mread_csv\u001b[0m\u001b[0;34m(\u001b[0m\u001b[0;34m'{}INPUTEVENTS_CV.csv'\u001b[0m\u001b[0;34m.\u001b[0m\u001b[0mformat\u001b[0m\u001b[0;34m(\u001b[0m\u001b[0mUSER_DIR\u001b[0m\u001b[0;34m)\u001b[0m\u001b[0;34m,\u001b[0m \u001b[0mencoding\u001b[0m\u001b[0;34m=\u001b[0m\u001b[0;34m'latin1'\u001b[0m \u001b[0;34m)\u001b[0m\u001b[0;34m[\u001b[0m\u001b[0;34m[\u001b[0m\u001b[0;34m'ICUSTAY_ID'\u001b[0m\u001b[0;34m,\u001b[0m \u001b[0;34m'STORETIME'\u001b[0m\u001b[0;34m,\u001b[0m \u001b[0;34m'ITEMID'\u001b[0m\u001b[0;34m]\u001b[0m\u001b[0;34m]\u001b[0m\u001b[0;34m\u001b[0m\u001b[0m\n\u001b[0;32m----> 2\u001b[0;31m \u001b[0minputeventscv\u001b[0m \u001b[0;34m=\u001b[0m \u001b[0mcreateEventsTable\u001b[0m\u001b[0;34m(\u001b[0m\u001b[0minputeventscv\u001b[0m\u001b[0;34m,\u001b[0m \u001b[0;34m'INPUTEVENTS_CV'\u001b[0m\u001b[0;34m,\u001b[0m \u001b[0;34m'STORETIME'\u001b[0m\u001b[0;34m)\u001b[0m\u001b[0;34m\u001b[0m\u001b[0m\n\u001b[0m",
      "\u001b[0;32m<ipython-input-130-971b17056f16>\u001b[0m in \u001b[0;36mcreateEventsTable\u001b[0;34m(dataframe, name, timeColumn)\u001b[0m\n\u001b[1;32m     13\u001b[0m     \u001b[0mdataframe\u001b[0m \u001b[0;34m=\u001b[0m \u001b[0mpd\u001b[0m\u001b[0;34m.\u001b[0m\u001b[0mmerge\u001b[0m\u001b[0;34m(\u001b[0m\u001b[0mdataframe\u001b[0m\u001b[0;34m,\u001b[0m \u001b[0mstays\u001b[0m\u001b[0;34m,\u001b[0m \u001b[0mon\u001b[0m\u001b[0;34m=\u001b[0m\u001b[0;34m'ICUSTAY_ID'\u001b[0m\u001b[0;34m,\u001b[0m \u001b[0mhow\u001b[0m\u001b[0;34m=\u001b[0m\u001b[0;34m'inner'\u001b[0m\u001b[0;34m)\u001b[0m\u001b[0;34m.\u001b[0m\u001b[0mdrop\u001b[0m\u001b[0;34m(\u001b[0m\u001b[0;34m[\u001b[0m\u001b[0;34m'LOS'\u001b[0m\u001b[0;34m,\u001b[0m\u001b[0;34m'GENDER'\u001b[0m\u001b[0;34m,\u001b[0m\u001b[0;34m'AGE'\u001b[0m\u001b[0;34m]\u001b[0m\u001b[0;34m,\u001b[0m \u001b[0maxis\u001b[0m\u001b[0;34m=\u001b[0m\u001b[0;36m1\u001b[0m\u001b[0;34m)\u001b[0m\u001b[0;34m\u001b[0m\u001b[0m\n\u001b[1;32m     14\u001b[0m     \u001b[0mdataframe\u001b[0m\u001b[0;34m.\u001b[0m\u001b[0minsert\u001b[0m\u001b[0;34m(\u001b[0m\u001b[0;36m0\u001b[0m\u001b[0;34m,\u001b[0m\u001b[0;34m'hours'\u001b[0m\u001b[0;34m,\u001b[0m \u001b[0;36m0\u001b[0m\u001b[0;34m)\u001b[0m\u001b[0;34m\u001b[0m\u001b[0m\n\u001b[0;32m---> 15\u001b[0;31m     \u001b[0mdataframe\u001b[0m \u001b[0;34m=\u001b[0m \u001b[0mdataframe\u001b[0m\u001b[0;34m.\u001b[0m\u001b[0mapply\u001b[0m\u001b[0;34m(\u001b[0m\u001b[0;32mlambda\u001b[0m \u001b[0mrow\u001b[0m\u001b[0;34m:\u001b[0m \u001b[0mevent_time_filter\u001b[0m\u001b[0;34m(\u001b[0m\u001b[0mrow\u001b[0m\u001b[0;34m)\u001b[0m\u001b[0;34m,\u001b[0m \u001b[0maxis\u001b[0m\u001b[0;34m=\u001b[0m\u001b[0;36m1\u001b[0m\u001b[0;34m)\u001b[0m\u001b[0;34m\u001b[0m\u001b[0m\n\u001b[0m\u001b[1;32m     16\u001b[0m \u001b[0;34m\u001b[0m\u001b[0m\n\u001b[1;32m     17\u001b[0m     \u001b[0;31m# delete hours > hoursCheckedIn\u001b[0m\u001b[0;34m\u001b[0m\u001b[0;34m\u001b[0m\u001b[0m\n",
      "\u001b[0;32m/anaconda3/lib/python3.6/site-packages/pandas/core/frame.py\u001b[0m in \u001b[0;36mapply\u001b[0;34m(self, func, axis, broadcast, raw, reduce, args, **kwds)\u001b[0m\n\u001b[1;32m   4875\u001b[0m                         \u001b[0mf\u001b[0m\u001b[0;34m,\u001b[0m \u001b[0maxis\u001b[0m\u001b[0;34m,\u001b[0m\u001b[0;34m\u001b[0m\u001b[0m\n\u001b[1;32m   4876\u001b[0m                         \u001b[0mreduce\u001b[0m\u001b[0;34m=\u001b[0m\u001b[0mreduce\u001b[0m\u001b[0;34m,\u001b[0m\u001b[0;34m\u001b[0m\u001b[0m\n\u001b[0;32m-> 4877\u001b[0;31m                         ignore_failures=ignore_failures)\n\u001b[0m\u001b[1;32m   4878\u001b[0m             \u001b[0;32melse\u001b[0m\u001b[0;34m:\u001b[0m\u001b[0;34m\u001b[0m\u001b[0m\n\u001b[1;32m   4879\u001b[0m                 \u001b[0;32mreturn\u001b[0m \u001b[0mself\u001b[0m\u001b[0;34m.\u001b[0m\u001b[0m_apply_broadcast\u001b[0m\u001b[0;34m(\u001b[0m\u001b[0mf\u001b[0m\u001b[0;34m,\u001b[0m \u001b[0maxis\u001b[0m\u001b[0;34m)\u001b[0m\u001b[0;34m\u001b[0m\u001b[0m\n",
      "\u001b[0;32m/anaconda3/lib/python3.6/site-packages/pandas/core/frame.py\u001b[0m in \u001b[0;36m_apply_standard\u001b[0;34m(self, func, axis, ignore_failures, reduce)\u001b[0m\n\u001b[1;32m   4970\u001b[0m         \u001b[0;32melse\u001b[0m\u001b[0;34m:\u001b[0m\u001b[0;34m\u001b[0m\u001b[0m\n\u001b[1;32m   4971\u001b[0m             \u001b[0;32mtry\u001b[0m\u001b[0;34m:\u001b[0m\u001b[0;34m\u001b[0m\u001b[0m\n\u001b[0;32m-> 4972\u001b[0;31m                 \u001b[0;32mfor\u001b[0m \u001b[0mi\u001b[0m\u001b[0;34m,\u001b[0m \u001b[0mv\u001b[0m \u001b[0;32min\u001b[0m \u001b[0menumerate\u001b[0m\u001b[0;34m(\u001b[0m\u001b[0mseries_gen\u001b[0m\u001b[0;34m)\u001b[0m\u001b[0;34m:\u001b[0m\u001b[0;34m\u001b[0m\u001b[0m\n\u001b[0m\u001b[1;32m   4973\u001b[0m                     \u001b[0mresults\u001b[0m\u001b[0;34m[\u001b[0m\u001b[0mi\u001b[0m\u001b[0;34m]\u001b[0m \u001b[0;34m=\u001b[0m \u001b[0mfunc\u001b[0m\u001b[0;34m(\u001b[0m\u001b[0mv\u001b[0m\u001b[0;34m)\u001b[0m\u001b[0;34m\u001b[0m\u001b[0m\n\u001b[1;32m   4974\u001b[0m                     \u001b[0mkeys\u001b[0m\u001b[0;34m.\u001b[0m\u001b[0mappend\u001b[0m\u001b[0;34m(\u001b[0m\u001b[0mv\u001b[0m\u001b[0;34m.\u001b[0m\u001b[0mname\u001b[0m\u001b[0;34m)\u001b[0m\u001b[0;34m\u001b[0m\u001b[0m\n",
      "\u001b[0;32m/anaconda3/lib/python3.6/site-packages/pandas/core/frame.py\u001b[0m in \u001b[0;36m<genexpr>\u001b[0;34m(.0)\u001b[0m\n\u001b[1;32m   4948\u001b[0m             series_gen = (Series.from_array(arr, index=res_columns, name=name,\n\u001b[1;32m   4949\u001b[0m                                             dtype=dtype)\n\u001b[0;32m-> 4950\u001b[0;31m                           for i, (arr, name) in enumerate(zip(values,\n\u001b[0m\u001b[1;32m   4951\u001b[0m                                                               res_index)))\n\u001b[1;32m   4952\u001b[0m         \u001b[0;32melse\u001b[0m\u001b[0;34m:\u001b[0m  \u001b[0;31m# pragma : no cover\u001b[0m\u001b[0;34m\u001b[0m\u001b[0m\n",
      "\u001b[0;32m/anaconda3/lib/python3.6/site-packages/pandas/core/series.py\u001b[0m in \u001b[0;36mfrom_array\u001b[0;34m(cls, arr, index, name, dtype, copy, fastpath)\u001b[0m\n\u001b[1;32m    280\u001b[0m \u001b[0;34m\u001b[0m\u001b[0m\n\u001b[1;32m    281\u001b[0m         return cls(arr, index=index, name=name, dtype=dtype, copy=copy,\n\u001b[0;32m--> 282\u001b[0;31m                    fastpath=fastpath)\n\u001b[0m\u001b[1;32m    283\u001b[0m \u001b[0;34m\u001b[0m\u001b[0m\n\u001b[1;32m    284\u001b[0m     \u001b[0;34m@\u001b[0m\u001b[0mproperty\u001b[0m\u001b[0;34m\u001b[0m\u001b[0m\n",
      "\u001b[0;32m/anaconda3/lib/python3.6/site-packages/pandas/core/series.py\u001b[0m in \u001b[0;36m__init__\u001b[0;34m(self, data, index, dtype, name, copy, fastpath)\u001b[0m\n\u001b[1;32m    268\u001b[0m         \u001b[0mgeneric\u001b[0m\u001b[0;34m.\u001b[0m\u001b[0mNDFrame\u001b[0m\u001b[0;34m.\u001b[0m\u001b[0m__init__\u001b[0m\u001b[0;34m(\u001b[0m\u001b[0mself\u001b[0m\u001b[0;34m,\u001b[0m \u001b[0mdata\u001b[0m\u001b[0;34m,\u001b[0m \u001b[0mfastpath\u001b[0m\u001b[0;34m=\u001b[0m\u001b[0;32mTrue\u001b[0m\u001b[0;34m)\u001b[0m\u001b[0;34m\u001b[0m\u001b[0m\n\u001b[1;32m    269\u001b[0m \u001b[0;34m\u001b[0m\u001b[0m\n\u001b[0;32m--> 270\u001b[0;31m         \u001b[0mself\u001b[0m\u001b[0;34m.\u001b[0m\u001b[0mname\u001b[0m \u001b[0;34m=\u001b[0m \u001b[0mname\u001b[0m\u001b[0;34m\u001b[0m\u001b[0m\n\u001b[0m\u001b[1;32m    271\u001b[0m         \u001b[0mself\u001b[0m\u001b[0;34m.\u001b[0m\u001b[0m_set_axis\u001b[0m\u001b[0;34m(\u001b[0m\u001b[0;36m0\u001b[0m\u001b[0;34m,\u001b[0m \u001b[0mindex\u001b[0m\u001b[0;34m,\u001b[0m \u001b[0mfastpath\u001b[0m\u001b[0;34m=\u001b[0m\u001b[0;32mTrue\u001b[0m\u001b[0;34m)\u001b[0m\u001b[0;34m\u001b[0m\u001b[0m\n\u001b[1;32m    272\u001b[0m \u001b[0;34m\u001b[0m\u001b[0m\n",
      "\u001b[0;32m/anaconda3/lib/python3.6/site-packages/pandas/core/generic.py\u001b[0m in \u001b[0;36m__setattr__\u001b[0;34m(self, name, value)\u001b[0m\n\u001b[1;32m   3624\u001b[0m \u001b[0;34m\u001b[0m\u001b[0m\n\u001b[1;32m   3625\u001b[0m         \u001b[0;32mtry\u001b[0m\u001b[0;34m:\u001b[0m\u001b[0;34m\u001b[0m\u001b[0m\n\u001b[0;32m-> 3626\u001b[0;31m             \u001b[0mobject\u001b[0m\u001b[0;34m.\u001b[0m\u001b[0m__getattribute__\u001b[0m\u001b[0;34m(\u001b[0m\u001b[0mself\u001b[0m\u001b[0;34m,\u001b[0m \u001b[0mname\u001b[0m\u001b[0;34m)\u001b[0m\u001b[0;34m\u001b[0m\u001b[0m\n\u001b[0m\u001b[1;32m   3627\u001b[0m             \u001b[0;32mreturn\u001b[0m \u001b[0mobject\u001b[0m\u001b[0;34m.\u001b[0m\u001b[0m__setattr__\u001b[0m\u001b[0;34m(\u001b[0m\u001b[0mself\u001b[0m\u001b[0;34m,\u001b[0m \u001b[0mname\u001b[0m\u001b[0;34m,\u001b[0m \u001b[0mvalue\u001b[0m\u001b[0;34m)\u001b[0m\u001b[0;34m\u001b[0m\u001b[0m\n\u001b[1;32m   3628\u001b[0m         \u001b[0;32mexcept\u001b[0m \u001b[0mAttributeError\u001b[0m\u001b[0;34m:\u001b[0m\u001b[0;34m\u001b[0m\u001b[0m\n",
      "\u001b[0;31mKeyboardInterrupt\u001b[0m: "
     ]
    }
   ],
   "source": [
    "inputeventscv = pd.read_csv('{}INPUTEVENTS_CV.csv'.format(USER_DIR), encoding='latin1' )[['ICUSTAY_ID', 'STORETIME', 'ITEMID']]\n",
    "inputeventscv = createEventsTable(inputeventscv, 'INPUTEVENTS_CV', 'STORETIME')"
   ]
  },
  {
   "cell_type": "markdown",
   "metadata": {},
   "source": [
    "* <h3>Procedure_Events"
   ]
  },
  {
   "cell_type": "code",
   "execution_count": null,
   "metadata": {},
   "outputs": [],
   "source": [
    "# Load data\n",
    "procedureevents = pd.read_csv('{}PROCEDUREEVENTS_MV.csv'.format(USER_DIR))[['ICUSTAY_ID', 'STARTTIME', 'ITEMID']]\n",
    "procedureevents = createEventsTable(procedureevents, 'PROCEDUREEVENTS_MV', 'STARTTIME')"
   ]
  },
  {
   "cell_type": "markdown",
   "metadata": {},
   "source": [
    "* <h3>Datetime_Events"
   ]
  },
  {
   "cell_type": "code",
   "execution_count": null,
   "metadata": {
    "scrolled": true
   },
   "outputs": [],
   "source": [
    "# Load data\n",
    "datetimeevents = pd.read_csv('{}DATETIMEEVENTS.csv'.format(USER_DIR), encoding='latin1' )[['ICUSTAY_ID', 'STORETIME', 'ITEMID']]\n",
    "datetimeevents = createEventsTable(datetimeevents, 'DATETIMEEVENTS', 'STORETIME')"
   ]
  },
  {
   "cell_type": "markdown",
   "metadata": {},
   "source": [
    "* <h3>Input_Events_MV"
   ]
  },
  {
   "cell_type": "code",
   "execution_count": null,
   "metadata": {
    "scrolled": true
   },
   "outputs": [],
   "source": [
    "# Load data\n",
    "inputeventsmv = pd.read_csv('{}INPUTEVENTS_MV.csv'.format(USER_DIR), encoding='latin1' )[['ICUSTAY_ID', 'STARTTIME', 'ITEMID']]\n",
    "inputeventsmv = createEventsTable(inputeventsmv, 'INPUTEVENTS_MV', 'STARTTIME')"
   ]
  },
  {
   "cell_type": "markdown",
   "metadata": {},
   "source": [
    "* <h3>Input_Events_MV"
   ]
  },
  {
   "cell_type": "code",
   "execution_count": null,
   "metadata": {},
   "outputs": [],
   "source": [
    "# Load data\n",
    "outputevents = pd.read_csv('{}OUTPUTEVENTS.csv'.format(USER_DIR), encoding='latin1', nrows=500000)[['ICUSTAY_ID', 'STOREIME', 'ITEMID']]\n",
    "outputevents = createEventsTable(outputevents, 'OUTPUTEVENTS', 'STARTTIME')"
   ]
  },
  {
   "cell_type": "markdown",
   "metadata": {},
   "source": [
    "* <h3>Master = Union All Tables "
   ]
  },
  {
   "cell_type": "code",
   "execution_count": 112,
   "metadata": {},
   "outputs": [
    {
     "name": "stdout",
     "output_type": "stream",
     "text": [
      "Master built. Shape: (1171576, 2)\n"
     ]
    }
   ],
   "source": [
    "# If you add a new table, don't forget to put it into the list below \n",
    "master = pd.concat([inputeventscv, procedureevents, datetimeevents, inputeventsmv])\n",
    "print('Master built. Shape: {}'.format(master.shape))\n",
    "# master"
   ]
  },
  {
   "cell_type": "markdown",
   "metadata": {},
   "source": [
    "* <h3>Pivot All Columns"
   ]
  },
  {
   "cell_type": "code",
   "execution_count": 113,
   "metadata": {},
   "outputs": [
    {
     "name": "stdout",
     "output_type": "stream",
     "text": [
      "Number of Items/Columns need to be added:  909\n",
      "Master built. Shape: (4623, 912)\n"
     ]
    }
   ],
   "source": [
    "print('Number of Items/Columns need to be added: ', master.ITEMID.unique().size)\n",
    "for x in master.ITEMID.unique():\n",
    "    master[x]=(master.ITEMID==x).astype(int)\n",
    "    \n",
    "master = master.groupby(['ICUSTAY_ID']).sum().reset_index()\n",
    "\n",
    "master = pd.merge(master, stays, on='ICUSTAY_ID', how='inner')\n",
    "master.drop(['ITEMID','ICUSTAY_ID','INTIME'], axis=1, inplace=True)\n",
    "print('Master built. Shape: {}'.format(master.shape))\n",
    "# master"
   ]
  },
  {
   "cell_type": "markdown",
   "metadata": {},
   "source": [
    "## Model"
   ]
  },
  {
   "cell_type": "code",
   "execution_count": 114,
   "metadata": {},
   "outputs": [],
   "source": [
    "# Split-out validation dataset\n",
    "col = len(master.columns) - 1\n",
    "array = master.values   #numpy array\n",
    "X = array[:,0:col]# first N columns\n",
    "Y = array[:,col]  # LOS column"
   ]
  },
  {
   "cell_type": "code",
   "execution_count": 115,
   "metadata": {},
   "outputs": [],
   "source": [
    "validation_size = 0.20\n",
    "seed = 7\n",
    "X_train, X_validation, Y_train, Y_validation = model_selection.train_test_split(X, Y, test_size=validation_size, random_state=seed)\n",
    "# print('{}'.format(X_train, Y_train))"
   ]
  },
  {
   "cell_type": "code",
   "execution_count": 116,
   "metadata": {},
   "outputs": [
    {
     "name": "stdout",
     "output_type": "stream",
     "text": [
      "RF: 0.424548 (0.023235)\n"
     ]
    }
   ],
   "source": [
    "# Test options and evaluation metric\n",
    "seed = 7\n",
    "scoring = 'accuracy'\n",
    "\n",
    "# Spot Check Algorithms\n",
    "models = []\n",
    "# models.append(('LR', LogisticRegression()))\n",
    "# models.append(('LDA', LinearDiscriminantAnalysis()))\n",
    "# models.append(('KNN', KNeighborsClassifier()))\n",
    "# models.append(('CART', DecisionTreeClassifier()))\n",
    "# models.append(('NB', GaussianNB()))\n",
    "# models.append(('SVM', SVC()))\n",
    "models.append(('RF', RandomForestClassifier()))\n",
    "\n",
    "# evaluate each model in turn\n",
    "results = []\n",
    "names = []\n",
    "for name, model in models:\n",
    "    kfold = model_selection.KFold(n_splits=10, random_state=seed)\n",
    "    cv_results = model_selection.cross_val_score(model, X_train, Y_train, cv=kfold, scoring=scoring)\n",
    "    results.append(cv_results)\n",
    "    names.append(name)\n",
    "    msg = \"%s: %f (%f)\" % (name, cv_results.mean(), cv_results.std())\n",
    "    print(msg)"
   ]
  },
  {
   "cell_type": "code",
   "execution_count": 117,
   "metadata": {},
   "outputs": [
    {
     "data": {
      "image/png": "[encoded data removed]",
      "text/plain": [
       "<matplotlib.figure.Figure at 0x136773128>"
      ]
     },
     "metadata": {},
     "output_type": "display_data"
    }
   ],
   "source": [
    "# Compare Algorithms\n",
    "fig = plt.figure()\n",
    "fig.suptitle('Algorithm Comparison')\n",
    "ax = fig.add_subplot(111)\n",
    "plt.boxplot(results)\n",
    "ax.set_xticklabels(names)\n",
    "plt.show()"
   ]
  },
  {
   "cell_type": "code",
   "execution_count": 121,
   "metadata": {},
   "outputs": [
    {
     "name": "stdout",
     "output_type": "stream",
     "text": [
      "0.4281081081081081\n",
      "[[ 15  15   1 ...   0   0   0]\n",
      " [ 10 227  31 ...   0   0   0]\n",
      " [  2  71 105 ...   0   0   0]\n",
      " ...\n",
      " [  0   0   0 ...   0   0   0]\n",
      " [  0   0   0 ...   0   0   0]\n",
      " [  0   0   0 ...   0   1   0]]\n",
      "             precision    recall  f1-score   support\n",
      "\n",
      "          0       0.45      0.48      0.47        31\n",
      "          1       0.64      0.84      0.73       270\n",
      "          2       0.41      0.54      0.46       193\n",
      "          3       0.28      0.29      0.28       119\n",
      "          4       0.11      0.08      0.09        63\n",
      "          5       0.21      0.09      0.13        43\n",
      "          6       0.07      0.06      0.06        35\n",
      "          7       0.12      0.10      0.11        21\n",
      "          8       0.20      0.10      0.13        21\n",
      "          9       0.00      0.00      0.00        10\n",
      "         10       0.00      0.00      0.00         6\n",
      "         11       0.00      0.00      0.00        19\n",
      "         12       0.00      0.00      0.00        10\n",
      "         13       0.00      0.00      0.00        10\n",
      "         14       0.00      0.00      0.00         8\n",
      "         15       0.00      0.00      0.00         3\n",
      "         16       0.00      0.00      0.00         5\n",
      "         17       0.00      0.00      0.00         5\n",
      "         18       0.00      0.00      0.00         3\n",
      "         19       0.00      0.00      0.00         3\n",
      "         20       0.00      0.00      0.00         5\n",
      "         21       0.00      0.00      0.00         2\n",
      "         22       0.00      0.00      0.00         2\n",
      "         23       0.00      0.00      0.00         4\n",
      "         24       0.00      0.00      0.00         4\n",
      "         25       0.00      0.00      0.00         1\n",
      "         26       0.00      0.00      0.00         0\n",
      "         27       0.00      0.00      0.00         2\n",
      "         28       0.00      0.00      0.00         3\n",
      "         29       0.00      0.00      0.00         1\n",
      "         30       0.00      0.00      0.00         1\n",
      "         31       0.00      0.00      0.00         3\n",
      "         32       0.00      0.00      0.00         1\n",
      "         34       0.00      0.00      0.00         1\n",
      "         35       0.00      0.00      0.00         1\n",
      "         36       0.00      0.00      0.00         2\n",
      "         37       0.00      0.00      0.00         0\n",
      "         38       0.00      0.00      0.00         1\n",
      "         41       0.00      0.00      0.00         1\n",
      "         42       0.00      0.00      0.00         1\n",
      "         43       0.00      0.00      0.00         1\n",
      "         44       0.00      0.00      0.00         1\n",
      "         46       0.00      0.00      0.00         0\n",
      "         47       0.00      0.00      0.00         0\n",
      "         49       0.00      0.00      0.00         1\n",
      "         64       0.00      0.00      0.00         0\n",
      "         65       0.00      0.00      0.00         1\n",
      "         66       0.00      0.00      0.00         1\n",
      "         68       0.00      0.00      0.00         1\n",
      "         74       0.00      0.00      0.00         1\n",
      "         76       0.00      0.00      0.00         1\n",
      "         79       0.00      0.00      0.00         1\n",
      "         82       0.00      0.00      0.00         1\n",
      "         85       0.00      0.00      0.00         1\n",
      "\n",
      "avg / total       0.35      0.43      0.38       925\n",
      "\n"
     ]
    },
    {
     "name": "stderr",
     "output_type": "stream",
     "text": [
      "/anaconda3/lib/python3.6/site-packages/sklearn/metrics/classification.py:1135: UndefinedMetricWarning: Precision and F-score are ill-defined and being set to 0.0 in labels with no predicted samples.\n",
      "  'precision', 'predicted', average, warn_for)\n",
      "/anaconda3/lib/python3.6/site-packages/sklearn/metrics/classification.py:1137: UndefinedMetricWarning: Recall and F-score are ill-defined and being set to 0.0 in labels with no true samples.\n",
      "  'recall', 'true', average, warn_for)\n"
     ]
    }
   ],
   "source": [
    "# Make predictions on validation dataset\n",
    "\n",
    "# knn = KNeighborsClassifier()\n",
    "# knn.fit(X_train, Y_train)\n",
    "# predictions = knn.predict(X_validation)\n",
    "\n",
    "# lr = LogisticRegression()\n",
    "# lr.fit(X_train, Y_train)\n",
    "# predictions = lr.predict(X_validation)\n",
    "\n",
    "# svm = SVC()\n",
    "# svm.fit(X_train, Y_train)\n",
    "# predictions = svm.predict(X_validation)\n",
    "\n",
    "randomForest = RandomForestClassifier()\n",
    "randomForest.fit(X_train, Y_train)\n",
    "predictions = randomForest.predict(X_validation)\n",
    "\n",
    "acurracyScore = accuracy_score(Y_validation, predictions)\n",
    "confusionMatrix = confusion_matrix(Y_validation, predictions)\n",
    "classificationReport = classification_report(Y_validation, predictions)\n",
    "\n",
    "print(acurracyScore)\n",
    "print(confusionMatrix)\n",
    "print(classificationReport)"
   ]
  },
  {
   "cell_type": "markdown",
   "metadata": {},
   "source": [
    "## Conclusion\n",
    "#### bla bla bla"
   ]
  },
  {
   "cell_type": "code",
   "execution_count": null,
   "metadata": {},
   "outputs": [],
   "source": []
  }
 ],
 "metadata": {
  "kernelspec": {
   "display_name": "Python 3",
   "language": "python",
   "name": "python3"
  },
  "language_info": {
   "codemirror_mode": {
    "name": "ipython",
    "version": 3
   },
   "file_extension": ".py",
   "mimetype": "text/x-python",
   "name": "python",
   "nbconvert_exporter": "python",
   "pygments_lexer": "ipython3",
   "version": "3.6.4"
  }
 },
 "nbformat": 4,
 "nbformat_minor": 2
}
