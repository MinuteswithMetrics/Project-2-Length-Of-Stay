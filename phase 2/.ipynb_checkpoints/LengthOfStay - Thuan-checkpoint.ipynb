{
 "cells": [
  {
   "cell_type": "markdown",
   "metadata": {},
   "source": [
    "<h1><center>Length of Stay Project 24h</h1>\n",
    "<h4>TCSS 555<br>\n",
    "Spring 2018<br>\n",
    "Thuan Lam, Tood Robbins, Inno Irving Estrera</h4></center>\n"
   ]
  },
  {
   "cell_type": "markdown",
   "metadata": {},
   "source": [
    "<h2>Libraries</h2>"
   ]
  },
  {
   "cell_type": "code",
   "execution_count": 41,
   "metadata": {},
   "outputs": [],
   "source": [
    "import numpy as np\n",
    "import pandas as pd\n",
    "import matplotlib.pyplot as plt\n",
    "\n",
    "from sklearn.utils import shuffle\n",
    "from dateutil.parser import parse\n",
    "from datetime import datetime\n",
    "\n",
    "from sklearn import model_selection\n",
    "from sklearn.linear_model import LogisticRegression\n",
    "from sklearn.tree import DecisionTreeClassifier\n",
    "from sklearn.neighbors import KNeighborsClassifier\n",
    "from sklearn.discriminant_analysis import LinearDiscriminantAnalysis\n",
    "from sklearn.naive_bayes import GaussianNB\n",
    "from sklearn.svm import SVC\n",
    "\n",
    "from sklearn.metrics import accuracy_score\n",
    "from sklearn.metrics import confusion_matrix\n",
    "from sklearn.metrics import classification_report"
   ]
  },
  {
   "cell_type": "markdown",
   "metadata": {},
   "source": [
    "## Global Setup"
   ]
  },
  {
   "cell_type": "code",
   "execution_count": 42,
   "metadata": {},
   "outputs": [],
   "source": [
    "runAt = 24              # run pridiction after the patient checkek in 24 hours\n",
    "hoursGranularity = 3    # see the granularity section\n",
    "numberOfStayRow = 5000  # get 5000 rows in the ICU STAYS only. Set numberOfStayRow = -1 if you want to get all rows"
   ]
  },
  {
   "cell_type": "markdown",
   "metadata": {},
   "source": [
    "## User Defined Functions and Variables"
   ]
  },
  {
   "cell_type": "code",
   "execution_count": 52,
   "metadata": {},
   "outputs": [],
   "source": [
    "DatetimeFormat = '%Y-%m-%d %H:%M:%S'\n",
    "\n",
    "def event_time_filter(row):\n",
    "    proceduretime = datetime.strptime(row.EVENTTIME, DatetimeFormat)\n",
    "    intime = datetime.strptime(row.INTIME, DatetimeFormat)\n",
    "    hours = (proceduretime - intime).total_seconds() / 3600.0\n",
    "    row.hours = hours\n",
    "    return row\n",
    "\n",
    "def createEventsTable(dataframe, name, timeColumn):\n",
    "    print('{} loaded. Shape: {}'.format(dataframe.shape, name))\n",
    "    dataframe.rename(columns={timeColumn: 'EVENTTIME'}, inplace=True)\n",
    "    dataframe = pd.merge(dataframe, stays, on='ICUSTAY_ID', how='inner').drop(['LOS','GENDER','AGE'], axis=1)\n",
    "    dataframe.insert(0,'hours', 0) \n",
    "    dataframe = dataframe.apply(lambda row: event_time_filter(row), axis=1)\n",
    "\n",
    "    # delete hours > RunAt (RunAt is defined in the User_Difined_Functions_and_Variables section)\n",
    "    dataframe = dataframe.loc[dataframe['hours'] <= runAt] #RunAt = 24h\n",
    "\n",
    "    dataframe.drop(['hours', 'EVENTTIME', 'INTIME'], axis=1, inplace=True)\n",
    "    print('{} filtered. Shape: {}'.format(name, dataframe.shape))\n",
    "    return dataframe"
   ]
  },
  {
   "cell_type": "markdown",
   "metadata": {},
   "source": [
    "## Data"
   ]
  },
  {
   "cell_type": "code",
   "execution_count": 44,
   "metadata": {},
   "outputs": [
    {
     "name": "stdout",
     "output_type": "stream",
     "text": [
      "Current folder is /Users/innoestrera/repositories/Project-2-Length-Of-Stay/phase 2\n"
     ]
    }
   ],
   "source": [
    "import os \n",
    "cwd = os.getcwd()\n",
    "print('Current folder is {}'.format(cwd))\n",
    "\n",
    "if os.name == \"posix\":\n",
    "    unreadable = set([\n",
    "        \"LABEVENTS.csv\",\n",
    "        \"INPUTEVENTS_CV.csv\",\n",
    "        \"DATETIMEEVENTS.csv\",\n",
    "        \"PRESCRIPTIONS.csv\",\n",
    "        \"NOTEEVENTS.csv\",\n",
    "        \"OUTPUTEVENTS.csv\",\n",
    "        \"CHARTEVENTS.csv\",\n",
    "        \"D_LABITEMS.csv\",\n",
    "        \"CPTEVENTS.csv\"\n",
    "    ])\n",
    "    USER_DIR = '/Users/innoestrera/Desktop/mimic3/';\n",
    "else:\n",
    "    USER_DIR = 'Data\\\\';"
   ]
  },
  {
   "cell_type": "code",
   "execution_count": 45,
   "metadata": {},
   "outputs": [
    {
     "name": "stdout",
     "output_type": "stream",
     "text": [
      "ICUStays loaded. Shape: (5000, 4)\n",
      "['ICUSTAY_ID' 'SUBJECT_ID' 'INTIME' 'LOS']\n"
     ]
    }
   ],
   "source": [
    "# Load datasets\n",
    "stays = pd.read_csv(\"{}ICUSTAYS.csv\".format(USER_DIR))[['ICUSTAY_ID','SUBJECT_ID','INTIME','LOS']]\n",
    "stays = shuffle(stays)\n",
    "\n",
    "# delete LOS = null or LOS = 0\n",
    "stays = stays.fillna(0)\n",
    "stays = stays.loc[stays['LOS'] > 0]\n",
    "\n",
    "if numberOfStayRow > 0:\n",
    "    stays = stays[:numberOfStayRow]\n",
    "\n",
    "print('ICUStays loaded. Shape: {}'.format(stays.shape))\n",
    "print(stays.columns.values)\n",
    "# stays"
   ]
  },
  {
   "cell_type": "markdown",
   "metadata": {},
   "source": [
    "## Hours Granularity"
   ]
  },
  {
   "cell_type": "code",
   "execution_count": 46,
   "metadata": {},
   "outputs": [],
   "source": [
    "if hoursGranularity == 1: \n",
    "    # Option 1: Accuracy +/- 0.1 days = 2 hours and 24 minutes\n",
    "    # For accuracy, we multiply that by 10. So, LOS=36 means 3.6 days. LOS=113 means 11.3 days\n",
    "    stays['LOS'] = stays['LOS'].apply(lambda x: int(x * 10))\n",
    "elif hoursGranularity == 2:\n",
    "    # Option 2: Accuracy +/- 0.5 days = 12 hours\n",
    "    # For accuracy, we multiply that by 10, and round up for half-day (0, 5, 10, 15, 20, 25...)\n",
    "    # For example, LOS=35 means 3.5 days. LOS=110 means 11 days\n",
    "    stays['LOS'] = stays['LOS'].apply(lambda x: int(round(x * 2, 0) * 5))\n",
    "elif hoursGranularity == 3:\n",
    "    # Option 3: Accuracy +/- 1 day = 24 hours\n",
    "    stays['LOS'] = stays['LOS'].apply(lambda x: int(round(x,0)))\n",
    "elif hoursGranularity == 4:\n",
    "    # Option 4: Accuracy +/- 2 day = 48 hours\n",
    "    # For example, 0 means 0-1 day, 2 means 2-3 days, 4 means 4-5 days, 6 means 6-7 days, ...\n",
    "    stays['LOS'] = stays['LOS'].apply(lambda x: round(x,0)//2*2)    \n",
    "elif hoursGranularity == 5:\n",
    "    # Option 5: Accuracy is a binary choice: Less than 5 days or not\n",
    "    stays['LOS'] = stays['LOS'].apply(lambda x: 1 if x >= 5 else 0)\n",
    "# stays"
   ]
  },
  {
   "cell_type": "markdown",
   "metadata": {},
   "source": [
    "## Patients"
   ]
  },
  {
   "cell_type": "code",
   "execution_count": 47,
   "metadata": {},
   "outputs": [
    {
     "name": "stdout",
     "output_type": "stream",
     "text": [
      "Patients loaded. Shape: (46520, 3)\n",
      "ICUStays joined with Patients. Shape: (5000, 5)\n",
      "['GENDER' 'AGE' 'ICUSTAY_ID' 'INTIME' 'LOS']\n"
     ]
    }
   ],
   "source": [
    "patients = pd.read_csv('{}PATIENTS.csv'.format(USER_DIR), encoding='latin1' )[['SUBJECT_ID', 'GENDER', 'DOB']]\n",
    "print('Patients loaded. Shape: {}'.format(patients.shape))\n",
    "stays = pd.merge(patients, stays, on='SUBJECT_ID', how='inner').drop(['SUBJECT_ID'], axis=1)\n",
    "\n",
    "stays.rename(columns={'DOB': 'AGE'}, inplace=True)\n",
    "\n",
    "# converting gender to a binary 1 or 0\n",
    "stays['GENDER'] = stays['GENDER'].apply(lambda x: 0 if x == 'F' else 1)\n",
    "\n",
    "# converting age \n",
    "stays['AGE']    = stays['AGE'].apply(lambda x: abs(int(x[:4]) - datetime.now().year)//10 if x.find('-') > 0 else 0)\n",
    "print('ICUStays joined with Patients. Shape: {}'.format(stays.shape))\n",
    "print(stays.columns.values)"
   ]
  },
  {
   "cell_type": "markdown",
   "metadata": {},
   "source": [
    "* <h3>Input_Events_CV"
   ]
  },
  {
   "cell_type": "code",
   "execution_count": 53,
   "metadata": {
    "scrolled": true
   },
   "outputs": [
    {
     "name": "stderr",
     "output_type": "stream",
     "text": [
      "/anaconda3/lib/python3.6/site-packages/IPython/core/interactiveshell.py:2728: DtypeWarning: Columns (7,9,17,20,21) have mixed types. Specify dtype option on import or set low_memory=False.\n",
      "  interactivity=interactivity, compiler=compiler, result=result)\n"
     ]
    },
    {
     "name": "stdout",
     "output_type": "stream",
     "text": [
      "(17527935, 3) loaded. Shape: INPUTEVENTS_CV\n",
      "INPUTEVENTS_CV filtered. Shape: (257623, 2)\n"
     ]
    }
   ],
   "source": [
    "inputeventscv = pd.read_csv('{}INPUTEVENTS_CV.csv'.format(USER_DIR), encoding='latin1' )[['ICUSTAY_ID', 'STORETIME', 'ITEMID']]\n",
    "inputeventscv = createEventsTable(inputeventscv, 'INPUTEVENTS_CV', 'STORETIME')"
   ]
  },
  {
   "cell_type": "markdown",
   "metadata": {},
   "source": [
    "* <h3>Procedure_Events"
   ]
  },
  {
   "cell_type": "code",
   "execution_count": 57,
   "metadata": {},
   "outputs": [
    {
     "name": "stdout",
     "output_type": "stream",
     "text": [
      "(258066, 3) loaded. Shape: PROCEDUREEVENTS_MV\n",
      "PROCEDUREEVENTS_MV filtered. Shape: (11754, 2)\n"
     ]
    }
   ],
   "source": [
    "# Load data\n",
    "procedureevents = pd.read_csv('{}PROCEDUREEVENTS_MV.csv'.format(USER_DIR))[['ICUSTAY_ID', 'STARTTIME', 'ITEMID']]\n",
    "procedureevents = createEventsTable(procedureevents, 'PROCEDUREEVENTS_MV', 'STARTTIME')"
   ]
  },
  {
   "cell_type": "markdown",
   "metadata": {},
   "source": [
    "* <h3>Datetime_Events"
   ]
  },
  {
   "cell_type": "code",
   "execution_count": 58,
   "metadata": {
    "scrolled": true
   },
   "outputs": [
    {
     "name": "stderr",
     "output_type": "stream",
     "text": [
      "/anaconda3/lib/python3.6/site-packages/IPython/core/interactiveshell.py:2728: DtypeWarning: Columns (13) have mixed types. Specify dtype option on import or set low_memory=False.\n",
      "  interactivity=interactivity, compiler=compiler, result=result)\n"
     ]
    },
    {
     "name": "stdout",
     "output_type": "stream",
     "text": [
      "(4485937, 3) loaded. Shape: DATETIMEEVENTS\n",
      "DATETIMEEVENTS filtered. Shape: (67145, 2)\n"
     ]
    }
   ],
   "source": [
    "# Load data\n",
    "datetimeevents = pd.read_csv('{}DATETIMEEVENTS.csv'.format(USER_DIR), encoding='latin1' )[['ICUSTAY_ID', 'STORETIME', 'ITEMID']]\n",
    "datetimeevents = createEventsTable(datetimeevents, 'DATETIMEEVENTS', 'STORETIME')"
   ]
  },
  {
   "cell_type": "markdown",
   "metadata": {},
   "source": [
    "* <h3>Input_Events_MV"
   ]
  },
  {
   "cell_type": "code",
   "execution_count": 59,
   "metadata": {
    "scrolled": true
   },
   "outputs": [
    {
     "name": "stdout",
     "output_type": "stream",
     "text": [
      "(3618991, 3) loaded. Shape: INPUTEVENTS_MV\n",
      "INPUTEVENTS_MV filtered. Shape: (83276, 2)\n"
     ]
    }
   ],
   "source": [
    "# Load data\n",
    "inputeventsmv = pd.read_csv('{}INPUTEVENTS_MV.csv'.format(USER_DIR), encoding='latin1' )[['ICUSTAY_ID', 'STARTTIME', 'ITEMID']]\n",
    "inputeventsmv = createEventsTable(inputeventsmv, 'INPUTEVENTS_MV', 'STARTTIME')"
   ]
  },
  {
   "cell_type": "markdown",
   "metadata": {},
   "source": [
    "* <h3>Master = Union All Tables "
   ]
  },
  {
   "cell_type": "code",
   "execution_count": 68,
   "metadata": {},
   "outputs": [
    {
     "name": "stdout",
     "output_type": "stream",
     "text": [
      "Master built. Shape: (419798, 2)\n"
     ]
    }
   ],
   "source": [
    "# If you add a new table, don't forget to put it into the list below \n",
    "master = pd.concat([inputeventscv, procedureevents, datetimeevents, inputeventsmv])\n",
    "print('Master built. Shape: {}'.format(master.shape))\n",
    "# master"
   ]
  },
  {
   "cell_type": "markdown",
   "metadata": {},
   "source": [
    "* <h3>Pivot All Columns"
   ]
  },
  {
   "cell_type": "code",
   "execution_count": 69,
   "metadata": {},
   "outputs": [
    {
     "name": "stdout",
     "output_type": "stream",
     "text": [
      "Number of Items/Columns need to be added:  740\n",
      "Master built. Shape: (4640, 743)\n"
     ]
    }
   ],
   "source": [
    "print('Number of Items/Columns need to be added: ', master.ITEMID.unique().size)\n",
    "for x in master.ITEMID.unique():\n",
    "    master[x]=(master.ITEMID==x).astype(int)\n",
    "    \n",
    "master = master.groupby(['ICUSTAY_ID']).sum().reset_index()\n",
    "\n",
    "master = pd.merge(master, stays, on='ICUSTAY_ID', how='inner')\n",
    "master.drop(['ITEMID','ICUSTAY_ID','INTIME'], axis=1, inplace=True)\n",
    "print('Master built. Shape: {}'.format(master.shape))\n",
    "# master"
   ]
  },
  {
   "cell_type": "markdown",
   "metadata": {},
   "source": [
    "## Model"
   ]
  },
  {
   "cell_type": "code",
   "execution_count": 72,
   "metadata": {},
   "outputs": [
    {
     "name": "stdout",
     "output_type": "stream",
     "text": [
      "[[  0   0   0 ...   0   1   3]\n",
      " [  2  18   3 ...   0   1  12]\n",
      " [  0   0   0 ...   0   0   6]\n",
      " ...\n",
      " [  0  43 104 ...   0   1   8]\n",
      " [  4  10   4 ...   0   1  10]\n",
      " [  2   7  38 ...   0   1   5]]\n",
      "[1 9 1 ... 2 3 1]\n",
      "      30056  30018  30013  30025  30001  30043  30123  30125  30050  30112  \\\n",
      "0         0      0      0      0      0      0      0      0      0      0   \n",
      "1         2     18      3      0      0      0      0      0      0      0   \n",
      "2         0      0      0      0      3      0      0      0      0      0   \n",
      "3         2      0     23      0      0      0      0      0      0     23   \n",
      "4         0      0      0      0      0      0      0      0      0      0   \n",
      "5         0      0      0      0      0      0      0      0      0      0   \n",
      "6         0      0      0      0      0      0      0      0      0      0   \n",
      "7         0      0      0      0      0      0      0      0      0      0   \n",
      "8         0      0      0      0      0      0      0      0      0      0   \n",
      "9         2      0     50     17      0      0      0      0      0      0   \n",
      "10        1     21      2      0      0      0      0      0      0      0   \n",
      "11        0      0      0      0      0      0      0      0      0      0   \n",
      "12        2     22      8      0      0      0      0      0      0      0   \n",
      "13        0      0      0      0      0      0      0      0      0      0   \n",
      "14        0      0      0      0      0      0      0      0      0      0   \n",
      "15        0      0      0      0      0      0      0      0      0      0   \n",
      "16        0      0     37      0      0      0      0      0      0      0   \n",
      "17        4     29      1      0      0      0      0      0      0      0   \n",
      "18        0      0      0      0      0      0      0      0      0      0   \n",
      "19        0      5      5      0      2      0      0      0      0      0   \n",
      "20        0      0      0      0      0      0      0      0      0      0   \n",
      "21        5      0     47      0      0      0      0      0      0      0   \n",
      "22        2      0      4      0      0      0      0      0      0      0   \n",
      "23        0      0      0      0      0      0      0      0      0      0   \n",
      "24        0      0      0      0      0      0      0      0      0      0   \n",
      "25        0      0      8      0      0      0      0      0      0      0   \n",
      "26        0     26     34      0      0      0      0      0      0      0   \n",
      "27        3      6     10      0      0      0      0      0      0      0   \n",
      "28        0     12     56      0      0      0      0      0      0      0   \n",
      "29        0      0      0      0      0      0      0      0      0      0   \n",
      "...     ...    ...    ...    ...    ...    ...    ...    ...    ...    ...   \n",
      "4610      0      0      0      0      0      0      0      0      0      0   \n",
      "4611      0     12     12      0      0      0      0      0      0      0   \n",
      "4612      1      0      1      0      0      0      0      0      0      0   \n",
      "4613      0      0      0      0      0      0      0      0      0      0   \n",
      "4614      0      0      0      0      0      0      0      0      0      0   \n",
      "4615      2     17      2      0      0      0      0      0      0      0   \n",
      "4616      0      0     21     47      0      0      1      0      0      0   \n",
      "4617      0      0      0      0      0      0      0      0      0      0   \n",
      "4618      0      0      0      0      0      0      0      0      0      0   \n",
      "4619      0      0      0      0      0      0      0      0      0      0   \n",
      "4620      0      0     26      0     11     59      0      0      0      0   \n",
      "4621      1     19      6      0      0      0      0      0      0      0   \n",
      "4622      7      0      0      0      0      0      0      0      0      0   \n",
      "4623      0      0      0      0      0      0      0      0      0      0   \n",
      "4624      0      0      0      0      0      0      0      0      0      0   \n",
      "4625      0      0      0      0      0      0      0      0      0      0   \n",
      "4626      0      0      0      0      0      0      0      0      0      0   \n",
      "4627      0      0      0      0      0      0      0      0      0      0   \n",
      "4628      1      4      1      0      4      0      0      0      0      0   \n",
      "4629      0     13      5      0      0      0      0      0      0      0   \n",
      "4630      0      8     40     17      0      0      0      6      0      0   \n",
      "4631      5     26     27     42      3      0      0      0      0      0   \n",
      "4632      0      0      0      0      0      0      0      0      0      0   \n",
      "4633      5      0     32      0      0      0      0      0      0      0   \n",
      "4634      0     12     94      0      9      0      0     74      0      0   \n",
      "4635      0     13     17      0      0      0      0      0      0      0   \n",
      "4636      1      5      0      0      0      0      0      0      0      0   \n",
      "4637      0     43    104      0      1      0      0      0      0     49   \n",
      "4638      4     10      4      0      0      0      0      0      0      0   \n",
      "4639      2      7     38      0      0      0      0      0      0      0   \n",
      "\n",
      "     ...   228340  225838  228383  222151  228351  226051  228359  GENDER  \\\n",
      "0    ...        0       0       0       0       0       0       0       1   \n",
      "1    ...        0       0       0       0       0       0       0       1   \n",
      "2    ...        0       0       0       0       0       0       0       0   \n",
      "3    ...        0       0       0       0       0       0       0       1   \n",
      "4    ...        0       0       0       0       0       0       0       1   \n",
      "5    ...        0       0       0       0       0       0       0       1   \n",
      "6    ...        0       0       0       0       0       0       0       0   \n",
      "7    ...        0       0       0       0       0       0       0       0   \n",
      "8    ...        0       0       0       0       0       0       0       1   \n",
      "9    ...        0       0       0       0       0       0       0       0   \n",
      "10   ...        0       0       0       0       0       0       0       0   \n",
      "11   ...        0       0       0       0       0       0       0       1   \n",
      "12   ...        0       0       0       0       0       0       0       0   \n",
      "13   ...        0       0       0       0       0       0       0       0   \n",
      "14   ...        0       0       0       0       0       0       0       0   \n",
      "15   ...        0       0       0       0       0       0       0       0   \n",
      "16   ...        0       0       0       0       0       0       0       1   \n",
      "17   ...        0       0       0       0       0       0       0       0   \n",
      "18   ...        0       0       0       0       0       0       0       1   \n",
      "19   ...        0       0       0       0       0       0       0       0   \n",
      "20   ...        0       0       0       0       0       0       0       1   \n",
      "21   ...        0       0       0       0       0       0       0       1   \n",
      "22   ...        0       0       0       0       0       0       0       0   \n",
      "23   ...        0       0       0       0       0       0       0       0   \n",
      "24   ...        6       0       0       0       0       0       0       1   \n",
      "25   ...        0       0       0       0       0       0       0       1   \n",
      "26   ...        0       0       0       0       0       0       0       0   \n",
      "27   ...        0       0       0       0       0       0       0       0   \n",
      "28   ...        0       0       0       0       0       0       0       1   \n",
      "29   ...        0       0       0       0       0       0       0       1   \n",
      "...  ...      ...     ...     ...     ...     ...     ...     ...     ...   \n",
      "4610 ...        0       0       0       0       0       0       0       0   \n",
      "4611 ...        0       0       0       0       0       0       0       1   \n",
      "4612 ...        0       0       0       0       0       0       0       0   \n",
      "4613 ...        0       0       0       0       0       0       0       0   \n",
      "4614 ...        0       0       0       0       0       0       0       0   \n",
      "4615 ...        0       0       0       0       0       0       0       0   \n",
      "4616 ...        0       0       0       0       0       0       0       1   \n",
      "4617 ...        0       0       0       0       0       0       0       0   \n",
      "4618 ...        0       0       0       0       0       0       0       1   \n",
      "4619 ...        0       0       0       0       0       0       0       1   \n",
      "4620 ...        0       0       0       0       0       0       0       1   \n",
      "4621 ...        0       0       0       0       0       0       0       0   \n",
      "4622 ...        0       0       0       0       0       0       0       0   \n",
      "4623 ...        0       0       0       0       0       0       0       1   \n",
      "4624 ...        0       0       0       0       0       0       0       0   \n",
      "4625 ...        0       0       0       0       0       0       0       0   \n",
      "4626 ...        0       0       0       0       0       0       0       1   \n",
      "4627 ...        0       0       0       0       0       0       0       1   \n",
      "4628 ...        0       0       0       0       0       0       0       0   \n",
      "4629 ...        0       0       0       0       0       0       0       1   \n",
      "4630 ...        0       0       0       0       0       0       0       0   \n",
      "4631 ...        0       0       0       0       0       0       0       1   \n",
      "4632 ...        0       0       0       0       0       0       0       1   \n",
      "4633 ...        0       0       0       0       0       0       0       1   \n",
      "4634 ...        0       0       0       0       0       0       0       1   \n",
      "4635 ...        0       0       0       0       0       0       0       0   \n",
      "4636 ...        0       0       0       0       0       0       0       0   \n",
      "4637 ...        0       0       0       0       0       0       0       1   \n",
      "4638 ...        0       0       0       0       0       0       0       1   \n",
      "4639 ...        0       0       0       0       0       0       0       1   \n",
      "\n",
      "      AGE  LOS  \n",
      "0       3    1  \n",
      "1      12    9  \n",
      "2       6    1  \n",
      "3      11    1  \n",
      "4       7    1  \n",
      "5      16   36  \n",
      "6      14    2  \n",
      "7       8    1  \n",
      "8      17    1  \n",
      "9       8   13  \n",
      "10      3    1  \n",
      "11      2    1  \n",
      "12      7    3  \n",
      "13     10    1  \n",
      "14      4   16  \n",
      "15      3    3  \n",
      "16      4    5  \n",
      "17     10    5  \n",
      "18      5    3  \n",
      "19      7    4  \n",
      "20      7    2  \n",
      "21      9    1  \n",
      "22     14   11  \n",
      "23      7    7  \n",
      "24      2   10  \n",
      "25     14    4  \n",
      "26      3    3  \n",
      "27      3    1  \n",
      "28      4    3  \n",
      "29     11   19  \n",
      "...   ...  ...  \n",
      "4610   12    2  \n",
      "4611   13    4  \n",
      "4612   14    1  \n",
      "4613   16    8  \n",
      "4614   16    0  \n",
      "4615    6    1  \n",
      "4616    3    8  \n",
      "4617    5    2  \n",
      "4618    5    1  \n",
      "4619    6    7  \n",
      "4620    3   19  \n",
      "4621    5    1  \n",
      "4622   10    4  \n",
      "4623    7    2  \n",
      "4624    4    3  \n",
      "4625    9    2  \n",
      "4626   10    1  \n",
      "4627    3    4  \n",
      "4628   17    2  \n",
      "4629    8    4  \n",
      "4630    9    4  \n",
      "4631    2    2  \n",
      "4632   14    1  \n",
      "4633    3    1  \n",
      "4634    9    4  \n",
      "4635    2    4  \n",
      "4636    5    1  \n",
      "4637    8    2  \n",
      "4638   10    3  \n",
      "4639    5    1  \n",
      "\n",
      "[4640 rows x 743 columns]\n"
     ]
    }
   ],
   "source": [
    "# Split-out validation dataset\n",
    "col = len(master.columns) - 1\n",
    "array = master.values   #numpy array\n",
    "X = array[:,0:col]# first N columns\n",
    "Y = array[:,col]  # LOS column"
   ]
  },
  {
   "cell_type": "code",
   "execution_count": null,
   "metadata": {},
   "outputs": [],
   "source": [
    "validation_size = 0.20\n",
    "seed = 7\n",
    "X_train, X_validation, Y_train, Y_validation = model_selection.train_test_split(X, Y, test_size=validation_size, random_state=seed)\n",
    "# print('{}'.format(X_train, Y_train))"
   ]
  },
  {
   "cell_type": "code",
   "execution_count": null,
   "metadata": {},
   "outputs": [],
   "source": [
    "# Test options and evaluation metric\n",
    "seed = 7\n",
    "scoring = 'accuracy'\n",
    "\n",
    "# Spot Check Algorithms\n",
    "models = []\n",
    "# models.append(('LR', LogisticRegression()))\n",
    "# models.append(('LDA', LinearDiscriminantAnalysis()))\n",
    "# models.append(('KNN', KNeighborsClassifier()))\n",
    "# models.append(('CART', DecisionTreeClassifier()))\n",
    "# models.append(('NB', GaussianNB()))\n",
    "models.append(('SVM', SVC()))\n",
    "\n",
    "# evaluate each model in turn\n",
    "results = []\n",
    "names = []\n",
    "for name, model in models:\n",
    "    kfold = model_selection.KFold(n_splits=10, random_state=seed)\n",
    "    cv_results = model_selection.cross_val_score(model, X_train, Y_train, cv=kfold, scoring=scoring)\n",
    "    results.append(cv_results)\n",
    "    names.append(name)\n",
    "    msg = \"%s: %f (%f)\" % (name, cv_results.mean(), cv_results.std())\n",
    "    print(msg)"
   ]
  },
  {
   "cell_type": "code",
   "execution_count": null,
   "metadata": {},
   "outputs": [],
   "source": [
    "# Compare Algorithms\n",
    "fig = plt.figure()\n",
    "fig.suptitle('Algorithm Comparison')\n",
    "ax = fig.add_subplot(111)\n",
    "plt.boxplot(results)\n",
    "ax.set_xticklabels(names)\n",
    "plt.show()"
   ]
  },
  {
   "cell_type": "code",
   "execution_count": null,
   "metadata": {},
   "outputs": [],
   "source": [
    "# Make predictions on validation dataset\n",
    "\n",
    "# knn = KNeighborsClassifier()\n",
    "# knn.fit(X_train, Y_train)\n",
    "# predictions = knn.predict(X_validation)\n",
    "\n",
    "# lr = LogisticRegression()\n",
    "# lr.fit(X_train, Y_train)\n",
    "# predictions = lr.predict(X_validation)\n",
    "\n",
    "svm = SVC()\n",
    "svm.fit(X_train, Y_train)\n",
    "predictions = svm.predict(X_validation)\n",
    "\n",
    "print(predictions)\n",
    "print(accuracy_score(Y_validation, predictions))\n",
    "print(confusion_matrix(Y_validation, predictions))\n",
    "print(classification_report(Y_validation, predictions))"
   ]
  },
  {
   "cell_type": "markdown",
   "metadata": {},
   "source": [
    "## Conclusion\n",
    "#### bla bla bla"
   ]
  },
  {
   "cell_type": "code",
   "execution_count": null,
   "metadata": {},
   "outputs": [],
   "source": []
  }
 ],
 "metadata": {
  "kernelspec": {
   "display_name": "Python 3",
   "language": "python",
   "name": "python3"
  },
  "language_info": {
   "codemirror_mode": {
    "name": "ipython",
    "version": 3
   },
   "file_extension": ".py",
   "mimetype": "text/x-python",
   "name": "python",
   "nbconvert_exporter": "python",
   "pygments_lexer": "ipython3",
   "version": "3.6.4"
  }
 },
 "nbformat": 4,
 "nbformat_minor": 2
}
